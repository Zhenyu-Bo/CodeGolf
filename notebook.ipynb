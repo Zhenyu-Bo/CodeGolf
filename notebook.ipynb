{
 "cells": [
  {
   "cell_type": "code",
   "execution_count": 5,
   "id": "996e95a3",
   "metadata": {},
   "outputs": [
    {
     "data": {
      "image/png": "[encoded data removed]",
      "text/plain": [
       "<Figure size 1000x500 with 1 Axes>"
      ]
     },
     "metadata": {},
     "output_type": "display_data"
    }
   ],
   "source": [
    "task_num = 48\n",
    "import sys\n",
    "sys.path.append(\"google-code-golf-2025/code_golf_utils\")\n",
    "from code_golf_utils import *\n",
    "examples = load_examples(task_num)\n",
    "show_examples(examples['train'] + examples['test'])"
   ]
  },
  {
   "cell_type": "code",
   "execution_count": 6,
   "id": "e322efb8",
   "metadata": {},
   "outputs": [
    {
     "name": "stdout",
     "output_type": "stream",
     "text": [
      "\n",
      "Results on ARC-AGI examples: 8 pass, 0 fail\n",
      "Results on ARC-GEN examples: 262 pass, 0 fail\n",
      "\n",
      "Your code IS READY for submission!\n",
      "Its length appears to be 376 bytes.\n",
      "Next steps:\n",
      " * Copy it into a file named task048.py on your local machine.\n",
      " * Create a zip file containing that program along with all others.\n",
      " * Submit that zip file to the Kaggle competition so that it can be officially scored.\n"
     ]
    }
   ],
   "source": [
    "# get absolute path of task.py\n",
    "import os\n",
    "task_path = os.path.abspath(\"task.py\")\n",
    "verify_program(task_num, examples, task_path)"
   ]
  },
  {
   "cell_type": "code",
   "execution_count": 70,
   "id": "671a8efa",
   "metadata": {},
   "outputs": [
    {
     "name": "stdout",
     "output_type": "stream",
     "text": [
      "def p(g):\n",
      " w=len(g[0]);a=sum(g,[]);n=len(a);s=a.index(2);D=(-w-1,-w,-w+1,-1,1,w-1,w,w+1);R={s,s+1,s+w,s+w+1};c=lambda u,v:0<=v<n and abs(u%w-v%w)<2;Q=[v for u in R for d in D if c(u,v:=u+d)and a[v]==8];h=0\n",
      " while h<len(Q):\n",
      "  u=Q[h];h+=1\n",
      "  for d in D:\n",
      "   if c(u,v:=u+d):\n",
      "    if a[v]==8 and v not in Q:Q.append(v)\n",
      "    elif a[v]==2 and v not in R:return[[8]]\n",
      " return[[0]]\n",
      "Code length without comments and empty lines: 376 bytes\n"
     ]
    }
   ],
   "source": [
    "import re\n",
    "import os\n",
    "\n",
    "def remove_comments_and_empty_lines(code):\n",
    "    lines = code.split('\\n')\n",
    "    new_lines = []\n",
    "    for line in lines:\n",
    "        line = re.sub(r'#.*', '', line)  # 去除注释\n",
    "        if line.strip() != '':\n",
    "            new_lines.append(line)\n",
    "    return '\\n'.join(new_lines)\n",
    "\n",
    "# 用法示例\n",
    "with open('./task.py', encoding='utf-8') as f:\n",
    "    code = f.read()\n",
    "clean_code = remove_comments_and_empty_lines(code)\n",
    "with open('./task_no_comments.py', 'w', encoding='utf-8') as f:\n",
    "    f.write(clean_code)\n",
    "print(clean_code)\n",
    "print(f\"Code length without comments and empty lines: {os.path.getsize('./task_no_comments.py')} bytes\")"
   ]
  }
 ],
 "metadata": {
  "kernelspec": {
   "display_name": "golf",
   "language": "python",
   "name": "python3"
  },
  "language_info": {
   "codemirror_mode": {
    "name": "ipython",
    "version": 3
   },
   "file_extension": ".py",
   "mimetype": "text/x-python",
   "name": "python",
   "nbconvert_exporter": "python",
   "pygments_lexer": "ipython3",
   "version": "3.12.11"
  }
 },
 "nbformat": 4,
 "nbformat_minor": 5
}
